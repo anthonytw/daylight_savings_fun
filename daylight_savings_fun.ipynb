{
 "cells": [
  {
   "cell_type": "code",
   "execution_count": 27,
   "metadata": {},
   "outputs": [],
   "source": [
    "import datetime as dt\n",
    "from dateutil.parser import parse\n",
    "import pytz\n",
    "import tzlocal\n",
    "\n",
    "UTC = pytz.UTC\n",
    "LOCAL = tzlocal.get_localzone()\n",
    "\n",
    "def print_timestamps(timestamps):\n",
    "    for ts in timestamps:\n",
    "        print(ts.strftime('%Y/%m/%d %H:%M:%S %Z'))"
   ]
  },
  {
   "cell_type": "code",
   "execution_count": 28,
   "metadata": {},
   "outputs": [
    {
     "name": "stdout",
     "output_type": "stream",
     "text": [
      "2020/03/07 20:00:00 EST\n",
      "2020/03/07 21:00:00 EST\n",
      "2020/03/07 22:00:00 EST\n",
      "2020/03/07 23:00:00 EST\n",
      "2020/03/08 00:00:00 EST\n",
      "2020/03/08 01:00:00 EST\n",
      "2020/03/08 03:00:00 EDT\n",
      "2020/03/08 04:00:00 EDT\n",
      "2020/03/08 05:00:00 EDT\n",
      "2020/03/08 06:00:00 EDT\n"
     ]
    }
   ],
   "source": [
    "# Example timestamps that contain a local-time DST jump.\n",
    "utc_origin = parse('2020/03/07 20:00:00 EST').astimezone(UTC)\n",
    "local_timestamps = [(utc_origin + i*dt.timedelta(hours=1, minutes=0)).astimezone(LOCAL) for i in range(10)]\n",
    "\n",
    "print_timestamps(local_timestamps)"
   ]
  },
  {
   "cell_type": "code",
   "execution_count": 29,
   "metadata": {},
   "outputs": [
    {
     "name": "stdout",
     "output_type": "stream",
     "text": [
      "2020/03/08 01:00:00 UTC\n",
      "2020/03/08 02:00:00 UTC\n",
      "2020/03/08 03:00:00 UTC\n",
      "2020/03/08 04:00:00 UTC\n",
      "2020/03/08 05:00:00 UTC\n",
      "2020/03/08 06:00:00 UTC\n",
      "2020/03/08 07:00:00 UTC\n",
      "2020/03/08 08:00:00 UTC\n",
      "2020/03/08 09:00:00 UTC\n",
      "2020/03/08 10:00:00 UTC\n"
     ]
    }
   ],
   "source": [
    "# Convert to UTC. Notice there is (correctly) no jump in UTC.\n",
    "utc_timestamps = [lts.astimezone(UTC) for lts in local_timestamps]\n",
    "\n",
    "print_timestamps(utc_timestamps)"
   ]
  },
  {
   "cell_type": "code",
   "execution_count": 34,
   "metadata": {},
   "outputs": [
    {
     "name": "stdout",
     "output_type": "stream",
     "text": [
      "2022/04/02 21:00:00 EDT\n",
      "2022/04/02 22:00:00 EDT\n",
      "2022/04/02 23:00:00 EDT\n",
      "2022/04/03 00:00:00 EDT\n",
      "2022/04/03 01:00:00 EDT\n",
      "2022/04/03 02:00:00 EDT\n",
      "2022/04/03 03:00:00 EDT\n",
      "2022/04/03 04:00:00 EDT\n",
      "2022/04/03 05:00:00 EDT\n",
      "2022/04/03 06:00:00 EDT\n"
     ]
    }
   ],
   "source": [
    "# Shift the time some amount in UTC, then convert back to local time to \"anonymize\".\n",
    "nonrandom_shift = dt.timedelta(weeks=52*2 + 4) # +2 years and 4 weeks.\n",
    "shifted_local_timestamps = [(uts + nonrandom_shift).astimezone(LOCAL) for uts in utc_timestamps]\n",
    "\n",
    "# Notice no time jump in the timestamps.\n",
    "print_timestamps(shifted_local_timestamps)"
   ]
  },
  {
   "cell_type": "code",
   "execution_count": 39,
   "metadata": {},
   "outputs": [
    {
     "name": "stdout",
     "output_type": "stream",
     "text": [
      "2020/10/31 21:00:00 EDT\n",
      "2020/10/31 22:00:00 EDT\n",
      "2020/10/31 23:00:00 EDT\n",
      "2020/11/01 00:00:00 EDT\n",
      "2020/11/01 01:00:00 EDT\n",
      "2020/11/01 01:00:00 EST\n",
      "2020/11/01 02:00:00 EST\n",
      "2020/11/01 03:00:00 EST\n",
      "2020/11/01 04:00:00 EST\n",
      "2020/11/01 05:00:00 EST\n"
     ]
    }
   ],
   "source": [
    "# Shift the time some amount in UTC, then convert back to local time to \"anonymize\".\n",
    "# This time, we'll shift enough to hit another timezone boundary, so there will be a time jump,\n",
    "# but since we're using timezone-aware timestamps in the HDF file we can handle this without issue.\n",
    "nonrandom_shift = dt.timedelta(weeks=34)\n",
    "shifted_local_timestamps = [(uts + nonrandom_shift).astimezone(LOCAL) for uts in utc_timestamps]\n",
    "\n",
    "# Notice no time jump in the timestamps.\n",
    "print_timestamps(shifted_local_timestamps)"
   ]
  }
 ],
 "metadata": {
  "kernelspec": {
   "display_name": "Python 3",
   "language": "python",
   "name": "python3"
  },
  "language_info": {
   "codemirror_mode": {
    "name": "ipython",
    "version": 3
   },
   "file_extension": ".py",
   "mimetype": "text/x-python",
   "name": "python",
   "nbconvert_exporter": "python",
   "pygments_lexer": "ipython3",
   "version": "3.8.3"
  }
 },
 "nbformat": 4,
 "nbformat_minor": 4
}
